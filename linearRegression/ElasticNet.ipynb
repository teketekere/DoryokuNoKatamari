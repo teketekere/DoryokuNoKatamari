{
 "cells": [
  {
   "cell_type": "markdown",
   "metadata": {},
   "source": [
    "# Elasticnet\n",
    "## 共役勾配 conjugate gradient\n",
    "### 実装ミスってる\n",
    "### https://stanford.edu/class/ee364b/projects/2014projects/reports/chrzanowski_report.pdf\n",
    "\n",
    "\n",
    "f = L + (\\eta* w_2 / 2 + (1-\\eta)* w_1)* \\lambda\n"
   ]
  },
  {
   "cell_type": "code",
   "execution_count": 43,
   "metadata": {},
   "outputs": [
    {
     "name": "stdout",
     "output_type": "stream",
     "text": [
      "16295.353914614872\n",
      "(100,)\n",
      "(100, 1)\n"
     ]
    },
    {
     "name": "stderr",
     "output_type": "stream",
     "text": [
      "C:\\Users\\osk\\Anaconda3\\lib\\site-packages\\ipykernel_launcher.py:40: RuntimeWarning: invalid value encountered in double_scalars\n"
     ]
    },
    {
     "data": {
      "image/png": "[encoded data removed]",
      "text/plain": [
       "<matplotlib.figure.Figure at 0x1fff76163c8>"
      ]
     },
     "metadata": {},
     "output_type": "display_data"
    }
   ],
   "source": [
    "import matplotlib.pyplot as plt\n",
    "import numpy as np\n",
    "from sklearn.datasets import make_regression\n",
    "\n",
    "\n",
    "class elasticNetRegressionCG(object):\n",
    "    def __init__(self, eta_=0.1, lambda_=0.1, max_iter=1000):\n",
    "        # eta: 制限項(L1ノルムとL2)ノルムの配分\n",
    "        # lambda: 制限項の重み \n",
    "        self.lambda_ = lambda_\n",
    "        self.eta_ = eta_\n",
    "        self.max_iter = max_iter\n",
    "        self.w = None\n",
    "        \n",
    "    def addBias(self, x):\n",
    "        b = np.ones(x.shape[0])\n",
    "        v = np.column_stack((b, x))\n",
    "        return v  \n",
    "    \n",
    "    def calcK(self, X):\n",
    "        arg1 = X.T @ X + self.lambda_ * (1 - self.eta_) * np.identity(X.shape[1])\n",
    "        arg2 = -X.T @ X\n",
    "        val1 = np.c_[arg1, arg2]\n",
    "        val2 = np.c_[arg2, arg1]\n",
    "        ret = np.r_[val1, val2]\n",
    "        return ret\n",
    "    \n",
    "    def calcB(self, X, y):\n",
    "        val1 = -X.T @ y + self.lambda_ * self.eta_ * np.ones(X.shape[1])\n",
    "        val2 = X.T @ y - self.lambda_ * self.eta_ * np.ones(X.shape[1])\n",
    "        ret = -np.r_[val1, val2]\n",
    "        return ret\n",
    "    \n",
    "    def getZ(self, u, l):\n",
    "        return np.r_[u, l]\n",
    "    \n",
    "    def getAlpha(self, r, p, A):\n",
    "        nume = r.T @ r\n",
    "        deno = p.T @ A @ p\n",
    "        return nume / deno\n",
    "    \n",
    "    def getBeta(self, r_new, r):\n",
    "        nume = r_new.T @ r_new\n",
    "        deno = r.T @ r\n",
    "        return nume / deno\n",
    "    \n",
    "    def decomposeZ(self, z):\n",
    "        size = z.shape[0] // 2\n",
    "        u = z[0: size]\n",
    "        l = z[size:]\n",
    "        return (u, l)\n",
    "    \n",
    "    def fit(self, x, y):\n",
    "        X = self.addBias(x)\n",
    "        X = X / np.sqrt(X.shape[0])\n",
    "        u = np.zeros(X.shape[1])\n",
    "        l = np.zeros(X.shape[1])\n",
    "        z = self.getZ(u, l)\n",
    "        K = self.calcK(X)\n",
    "        b = self.calcB(X, y)\n",
    "        r = b - K @ z\n",
    "        p = r\n",
    "        for iter in range(self.max_iter):\n",
    "            alpha = self.getAlpha(r, p, K)\n",
    "            z_new = z + alpha * p\n",
    "            z = np.array([z_new[i] if z_new[i] > 0 else z[i] for i in range(z.shape[0])])\n",
    "            r_new = r - alpha * K @ p\n",
    "            beta = self.getBeta(r_new, r)\n",
    "            p = r_new + beta * p\n",
    "            r = r_new\n",
    "        u, l = self.decomposeZ(z)\n",
    "        self.w = u - l\n",
    "    \n",
    "    def predict(self, x):\n",
    "        X = self.addBias(x)\n",
    "        pred = X @ self.w\n",
    "        return pred\n",
    "    \n",
    "    def score(self, x, y):\n",
    "        pred = self.predict(x)\n",
    "        score = np.sum(np.power(y - pred, 2)) / (2.0 * y.shape[0])\n",
    "        return score\n",
    "        \n",
    "x, y = make_regression(n_samples=100, n_features=1, random_state=0, noise=10.0, bias=20.0)\n",
    "clf = elasticNetRegressionCG()\n",
    "clf.fit(x, y)\n",
    "score = clf.score(x, y)\n",
    "print(score)\n",
    "\n",
    "# show\n",
    "pred = clf.predict(x)\n",
    "print(pred.shape)\n",
    "print(x.shape)\n",
    "plt.scatter(x, pred, color='blue', marker='.')\n",
    "plt.scatter(x, y, color='red', marker='.')\n",
    "plt.show()"
   ]
  },
  {
   "cell_type": "code",
   "execution_count": null,
   "metadata": {},
   "outputs": [],
   "source": [
    "# 多項式\n",
    "## y = x^3 - 10x^2 - x + 3\n",
    "import numpy as np\n",
    "import matplotlib.pyplot as plt\n",
    "\n",
    "def getPoly(val):\n",
    "    return val**3 - 10.0 * val**2 - val + 3.0\n",
    "\n",
    "# prepare\n",
    "dim = 3\n",
    "ar = np.arange(0, 10, 0.1)\n",
    "trueY = np.array([getPoly(val) for val in ar])\n",
    "y = np.array([getPoly(val)+np.random.normal(0, 20.0) if (val>0.5 and val < 9.5) else getPoly(val)+np.random.normal(0, 30) for val in ar])\n",
    "x = np.array([[val**k for k in range(1, dim+1)] for val in ar]).reshape(-1, dim)\n",
    "\n",
    "# fit\n",
    "clf = ElasticNet()\n",
    "clf.fit(x, y)\n",
    "\n",
    "# show\n",
    "pred = clf.predict(x)\n",
    "plt.scatter(ar, trueY, color='green', marker='.')\n",
    "plt.scatter(ar, pred, color='blue', marker='.')\n",
    "plt.scatter(ar, y, color='red', marker='.')\n",
    "plt.show()"
   ]
  }
 ],
 "metadata": {
  "celltoolbar": "Slideshow",
  "kernelspec": {
   "display_name": "Python 3",
   "language": "python",
   "name": "python3"
  },
  "language_info": {
   "codemirror_mode": {
    "name": "ipython",
    "version": 3
   },
   "file_extension": ".py",
   "mimetype": "text/x-python",
   "name": "python",
   "nbconvert_exporter": "python",
   "pygments_lexer": "ipython3",
   "version": "3.6.4"
  }
 },
 "nbformat": 4,
 "nbformat_minor": 2
}
