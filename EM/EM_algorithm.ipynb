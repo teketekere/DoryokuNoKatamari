{
 "cells": [
  {
   "cell_type": "code",
   "execution_count": 20,
   "metadata": {},
   "outputs": [],
   "source": [
    "import numpy as np\n",
    "import pandas as pd\n",
    "import matplotlib.pyplot as plt\n",
    "import matplotlib.animation as animation\n",
    "%matplotlib inline\n",
    "#%matplotlib nbagg\n",
    "\n",
    "from scipy.stats import norm\n",
    "from scipy.stats import bernoulli\n",
    "import tqdm\n",
    "\n",
    "xrange = np.arange(-10, 10, 0.01)\n",
    "xmin = xrange.min()\n",
    "xmax = xrange.max()\n",
    "xlim = (xmin, xmax)"
   ]
  },
  {
   "cell_type": "code",
   "execution_count": 31,
   "metadata": {},
   "outputs": [],
   "source": [
    "def get_normal_dist_pde(x, mu, sigma):\n",
    "    #if sigma == 0:\n",
    "    #    sigma = 0.0000001\n",
    "    #return np.exp( -np.power(x-mu, 2)/(2*sigma**2) ) / (np.sqrt(2*np.pi)*sigma)\n",
    "    return norm.pdf(x, mu, sigma)\n",
    "\n",
    "def get_mix_normal_dist_sample(num_sampling, pi, mu, sigma):\n",
    "    ps = bernoulli.rvs(pi[0], size=num_sampling)\n",
    "    #y = np.array([pi[0]*np.random.normal(mu[0], sigma[0]) if p==1 else pi[1]*np.random.normal(mu[1], sigma[1]) for p in ps]) \n",
    "    y = np.array([np.random.normal(mu[0], sigma[0]) if p==1 else np.random.normal(mu[1], sigma[1]) for p in ps]) \n",
    "    return y\n",
    "\n",
    "def plot_mix_normal_dist(pi, mu, sigma, xrange):\n",
    "    ress = []\n",
    "    for x in xrange:\n",
    "        res = np.array([pi[i]*get_normal_dist_pde(x, mu[i], sigma[i]) for i in range(len(pi))])\n",
    "        ress.append(np.sum(res))\n",
    "    im =plt.scatter(xrange,ress)\n",
    "    return im"
   ]
  },
  {
   "cell_type": "code",
   "execution_count": null,
   "metadata": {},
   "outputs": [],
   "source": []
  },
  {
   "cell_type": "code",
   "execution_count": 35,
   "metadata": {},
   "outputs": [
    {
     "data": {
      "image/png": "[encoded data removed]",
      "text/plain": [
       "<matplotlib.figure.Figure at 0xe165610>"
      ]
     },
     "metadata": {},
     "output_type": "display_data"
    }
   ],
   "source": [
    "# Sampling\n",
    "## y ~ \\dot_{i=0}^{1} N(mu_i, sigma_i)^{k_i}\n",
    "## k_0 + k_1 = 1\n",
    "## k_0 = 1となる確率pi_[0], k_1 = 1となる確率pi_[1]\n",
    "\n",
    "# parameters\n",
    "pi_true = [0.3, 0.7]\n",
    "mu_true = [-5.0, 3.0]\n",
    "sigma_true = [0.4, 0.5]\n",
    "\n",
    "# sampling\n",
    "num_sampling = 1000\n",
    "#k = bernoulli.rvs(pi[0], size=num_sampling)\n",
    "#y = np.array([np.random.normal(mu[0], sigma[0]) if k_val == 0 else np.random.normal(mu[1], sigma[1]) for k_val in k])\n",
    "y = get_mix_normal_dist_sample(num_sampling=num_sampling, pi=pi_true, mu=mu_true, sigma=sigma_true)\n",
    "#y = np.array([get_normal_dist_pde(x, mu_true[0], sigma_true[0])+np.random.normal(0,0.01) if bernoulli.rvs(pi[0])==1 else get_normal_dist_pde(x, mu_true[1], sigma_true[1])+np.random.normal(0,0.01) for x in xrange])\n",
    "\n",
    "# plot\n",
    "plot_mix_normal_dist(pi_true, mu_true, sigma_true, xrange=xrange)\n",
    "\n",
    "plt.show()"
   ]
  },
  {
   "cell_type": "code",
   "execution_count": 39,
   "metadata": {},
   "outputs": [
    {
     "name": "stderr",
     "output_type": "stream",
     "text": [
      "100%|████████████████████████████████████████| 100/100 [01:01<00:00,  1.63it/s]\n"
     ]
    },
    {
     "name": "stdout",
     "output_type": "stream",
     "text": [
      "pi=0.303:0.697, mu=-4.9995337683557475:3.0055760200244963, sigma=0.3918840738252712:0.5005852888854653\n"
     ]
    },
    {
     "name": "stderr",
     "output_type": "stream",
     "text": [
      "Traceback (most recent call last):\n",
      "  File \"C:\\Users\\033041004\\AppData\\Local\\Continuum\\anaconda3\\lib\\site-packages\\matplotlib\\cbook\\__init__.py\", line 388, in process\n",
      "    proxy(*args, **kwargs)\n",
      "  File \"C:\\Users\\033041004\\AppData\\Local\\Continuum\\anaconda3\\lib\\site-packages\\matplotlib\\cbook\\__init__.py\", line 228, in __call__\n",
      "    return mtd(*args, **kwargs)\n",
      "  File \"C:\\Users\\033041004\\AppData\\Local\\Continuum\\anaconda3\\lib\\site-packages\\matplotlib\\animation.py\", line 1081, in _start\n",
      "    self._init_draw()\n",
      "  File \"C:\\Users\\033041004\\AppData\\Local\\Continuum\\anaconda3\\lib\\site-packages\\matplotlib\\animation.py\", line 1617, in _init_draw\n",
      "    for artist in f:\n",
      "TypeError: 'PathCollection' object is not iterable\n"
     ]
    },
    {
     "data": {
      "image/png": "[encoded data removed]",
      "text/plain": [
       "<matplotlib.figure.Figure at 0xe4c1d10>"
      ]
     },
     "metadata": {},
     "output_type": "display_data"
    }
   ],
   "source": [
    "# EM\n",
    "\n",
    "## parameters(pi, mu, simga)の初期化\n",
    "pi_est = [0.8, 0.2]\n",
    "mu_est = [3.0, 2.0]\n",
    "sigma_est = [0.7, 0.5]\n",
    "\n",
    "fig = plt.figure()\n",
    "ims = []\n",
    "num_iteration = 100\n",
    "for iter in tqdm.tqdm(range(num_iteration)):\n",
    "    ## E-Step\n",
    "    ### p(gamma | pi, mu, sigma)を現在のpi, mu, sigmaから求める\n",
    "    likelyhood_0 = pi_est[0]*np.array([get_normal_dist_pde(y[i], mu_est[0], sigma_est[0]) for i in range(len(y))])\n",
    "    likelyhood_1 = pi_est[1]*np.array([get_normal_dist_pde(y[i], mu_est[1], sigma_est[1]) for i in range(len(y))])\n",
    "    likelyhood = likelyhood_0 + likelyhood_1\n",
    "    gamma_0 = likelyhood_0 / likelyhood\n",
    "    gamma_1 = likelyhood_1 / likelyhood\n",
    "\n",
    "    ## M-Step\n",
    "    ### log L( pi, mu, simga| gamma)を最大化するpi, mu, sigmaを求める\n",
    "    N_0 = np.sum(gamma_0)\n",
    "    N_1 = np.sum(gamma_1)\n",
    "    pi_est[0] = N_0 / (N_0+N_1)\n",
    "    pi_est[1] = N_1 / (N_0+N_1)\n",
    "\n",
    "    assert len(gamma_0)==len(y), 'ng'\n",
    "    mu_est[0] = np.sum(gamma_0*y) / N_0\n",
    "    mu_est[1] = np.sum(gamma_1*y) / N_1\n",
    "    assert len(gamma_0*y)==len(y), 'ng1'\n",
    "    \n",
    "    y_0 = np.power(y-mu_est[0], 2)\n",
    "    assert len(y_0)==len(y), 'ng2'\n",
    "    sigma_est[0] = np.sqrt(np.sum(gamma_0*y_0) / N_0)\n",
    "    y_1 = np.power(y-mu_est[1], 2)\n",
    "    sigma_est[1] = np.sqrt(np.sum(gamma_1*y_1) / N_1)\n",
    "    \n",
    "\n",
    "    ## Plot\n",
    "    #plot_mix_normal_dist(pi, mu, sigma, xrange=xrange)\n",
    "    im = plot_mix_normal_dist(pi_est, mu_est, sigma_est, xrange=xrange)\n",
    "    ims.append(im)\n",
    "    \n",
    "ani = animation.ArtistAnimation(fig, ims, interval=500)\n",
    "print(f'pi={pi_est[0]}:{pi_est[1]}, mu={mu_est[0]}:{mu_est[1]}, sigma={sigma_est[0]}:{sigma_est[1]}')\n",
    "#plot_mix_normal_dist(pi=pi_est, mu=mu_est, sigma=sigma_est, xrange=xrange)\n",
    "#plot_mix_normal_dist(pi_true, mu_true, sigma_true, xrange=xrange)\n",
    "\n",
    "plt.show()"
   ]
  },
  {
   "cell_type": "code",
   "execution_count": 36,
   "metadata": {},
   "outputs": [
    {
     "data": {
      "image/png": "[encoded data removed]",
      "text/plain": [
       "<matplotlib.figure.Figure at 0xe415b90>"
      ]
     },
     "metadata": {},
     "output_type": "display_data"
    }
   ],
   "source": [
    "plt.scatter(np.zeros_like(y), y)\n",
    "plt.show()"
   ]
  },
  {
   "cell_type": "code",
   "execution_count": null,
   "metadata": {},
   "outputs": [],
   "source": []
  },
  {
   "cell_type": "code",
   "execution_count": null,
   "metadata": {},
   "outputs": [],
   "source": []
  },
  {
   "cell_type": "code",
   "execution_count": null,
   "metadata": {},
   "outputs": [],
   "source": []
  },
  {
   "cell_type": "code",
   "execution_count": null,
   "metadata": {},
   "outputs": [],
   "source": []
  }
 ],
 "metadata": {
  "kernelspec": {
   "display_name": "Python 3",
   "language": "python",
   "name": "python3"
  },
  "language_info": {
   "codemirror_mode": {
    "name": "ipython",
    "version": 3
   },
   "file_extension": ".py",
   "mimetype": "text/x-python",
   "name": "python",
   "nbconvert_exporter": "python",
   "pygments_lexer": "ipython3",
   "version": "3.6.4"
  }
 },
 "nbformat": 4,
 "nbformat_minor": 2
}
